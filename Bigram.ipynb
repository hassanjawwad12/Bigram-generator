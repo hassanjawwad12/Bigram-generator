{
  "nbformat": 4,
  "nbformat_minor": 0,
  "metadata": {
    "colab": {
      "provenance": [],
      "gpuType": "T4"
    },
    "kernelspec": {
      "name": "python3",
      "display_name": "Python 3"
    },
    "language_info": {
      "name": "python"
    },
    "accelerator": "GPU"
  },
  "cells": [
    {
      "cell_type": "code",
      "source": [
        "with open('wizard.txt', 'r', encoding='utf-8') as f:\n",
        "    text = f.read()\n",
        "\n",
        "#this prints the length of the text\n",
        "print(len(text))"
      ],
      "metadata": {
        "colab": {
          "base_uri": "https://localhost:8080/"
        },
        "id": "cmaeIbz1Lzft",
        "outputId": "8ff66df4-2fbe-49f1-fbf7-73177e780e92"
      },
      "execution_count": 47,
      "outputs": [
        {
          "output_type": "stream",
          "name": "stdout",
          "text": [
            "232309\n"
          ]
        }
      ]
    },
    {
      "cell_type": "code",
      "source": [
        "print(text[:200])"
      ],
      "metadata": {
        "colab": {
          "base_uri": "https://localhost:8080/"
        },
        "id": "vvivPZUPLziy",
        "outputId": "642d6678-517c-4a9a-a68e-1289696d2409"
      },
      "execution_count": 48,
      "outputs": [
        {
          "output_type": "stream",
          "name": "stdout",
          "text": [
            "﻿  DOROTHY AND THE WIZARD IN OZ\n",
            "\n",
            "  BY\n",
            "\n",
            "  L. FRANK BAUM\n",
            "\n",
            "  AUTHOR OF THE WIZARD OF OZ, THE LAND OF OZ, OZMA OF OZ, ETC.\n",
            "\n",
            "  ILLUSTRATED BY JOHN R. NEILL\n",
            "\n",
            "  BOOKS OF WONDER WILLIAM MORROW & CO., INC. NEW\n"
          ]
        }
      ]
    },
    {
      "cell_type": "code",
      "source": [
        "#All the charcters that we have\n",
        "chars = sorted(set(text))\n",
        "print(chars)"
      ],
      "metadata": {
        "colab": {
          "base_uri": "https://localhost:8080/"
        },
        "id": "uuyHUNmdLzmR",
        "outputId": "492a96cf-65a6-4ab6-9656-57c9593f1ad2"
      },
      "execution_count": 49,
      "outputs": [
        {
          "output_type": "stream",
          "name": "stdout",
          "text": [
            "['\\n', ' ', '!', '\"', '&', \"'\", '(', ')', '*', ',', '-', '.', '0', '1', '2', '3', '4', '5', '6', '7', '8', '9', ':', ';', '?', 'A', 'B', 'C', 'D', 'E', 'F', 'G', 'H', 'I', 'J', 'K', 'L', 'M', 'N', 'O', 'P', 'Q', 'R', 'S', 'T', 'U', 'V', 'W', 'X', 'Y', 'Z', '[', ']', '_', 'a', 'b', 'c', 'd', 'e', 'f', 'g', 'h', 'i', 'j', 'k', 'l', 'm', 'n', 'o', 'p', 'q', 'r', 's', 't', 'u', 'v', 'w', 'x', 'y', 'z', '\\ufeff']\n"
          ]
        }
      ]
    },
    {
      "cell_type": "code",
      "source": [
        "vocab_size = len(chars)"
      ],
      "metadata": {
        "id": "G7_a9aOpPHKb"
      },
      "execution_count": 50,
      "outputs": []
    },
    {
      "cell_type": "markdown",
      "source": [
        "Now we will make an ecoder and a decoder.\n",
        "This is a character level tokenizer which takes each charcater and converts it to an integer.\n",
        "We have small vocab but large amount of tokens to be converted.\n",
        "\n",
        "If we work with word level tokenizer then it would be trillions of tokens. Large vocab but small tokens.\n",
        "\n",
        "Sub-word tokenizer is hybrid of both\n",
        "\n"
      ],
      "metadata": {
        "id": "IdK9RhVaPzzm"
      }
    },
    {
      "cell_type": "code",
      "source": [
        "string_to_int = { ch:i for i,ch in enumerate(chars) }\n",
        "int_to_string = { i:ch for i,ch in enumerate(chars) }\n",
        "encode = lambda s: [string_to_int[c] for c in s]\n",
        "decode = lambda l: ''.join([int_to_string[i] for i in l])"
      ],
      "metadata": {
        "id": "N67cWmi6PtQy"
      },
      "execution_count": 51,
      "outputs": []
    },
    {
      "cell_type": "code",
      "source": [
        "print(encode('Hassan'))"
      ],
      "metadata": {
        "colab": {
          "base_uri": "https://localhost:8080/"
        },
        "id": "N60P3avwPtTK",
        "outputId": "45bc88bd-7066-4f84-b8b2-149ae5b7fd54"
      },
      "execution_count": 12,
      "outputs": [
        {
          "output_type": "stream",
          "name": "stdout",
          "text": [
            "[32, 54, 72, 72, 54, 67]\n"
          ]
        }
      ]
    },
    {
      "cell_type": "code",
      "source": [
        "print(decode([32, 54, 72, 72, 54, 67]))"
      ],
      "metadata": {
        "colab": {
          "base_uri": "https://localhost:8080/"
        },
        "id": "4314QX4-PtVo",
        "outputId": "8f48d99d-ad2c-413b-8b30-14313c0fa26a"
      },
      "execution_count": 13,
      "outputs": [
        {
          "output_type": "stream",
          "name": "stdout",
          "text": [
            "Hassan\n"
          ]
        }
      ]
    },
    {
      "cell_type": "code",
      "source": [
        "import torch\n",
        "device = 'cuda' if torch.cuda.is_available() else 'cpu'\n",
        "print(device)"
      ],
      "metadata": {
        "colab": {
          "base_uri": "https://localhost:8080/"
        },
        "id": "aSHa7wsePtZD",
        "outputId": "3ed0b9aa-164c-418f-d31d-4ea289aaee6b"
      },
      "execution_count": 53,
      "outputs": [
        {
          "output_type": "stream",
          "name": "stdout",
          "text": [
            "cuda\n"
          ]
        }
      ]
    },
    {
      "cell_type": "markdown",
      "source": [
        "Some cool stuff you can do with pytorch so you know\n",
        "what it is actually used for\n"
      ],
      "metadata": {
        "id": "UuP2SCayW-CX"
      }
    },
    {
      "cell_type": "code",
      "source": [
        "import torch.nn as nn\n",
        "from torch.nn import functional as F\n",
        "import numpy as np\n",
        "import time"
      ],
      "metadata": {
        "id": "dKWObjNPXEmG"
      },
      "execution_count": 52,
      "outputs": []
    },
    {
      "cell_type": "code",
      "source": [
        "%%time\n",
        "start_time = time.time()\n",
        "# matrix operations here\n",
        "zeros = torch.zeros(1, 1)\n",
        "end_time = time.time()\n",
        "\n",
        "elapsed_time = end_time - start_time\n",
        "print(f\"{elapsed_time:.8f}\")\n"
      ],
      "metadata": {
        "colab": {
          "base_uri": "https://localhost:8080/"
        },
        "id": "ZtUrmx6EXEpZ",
        "outputId": "10cc3e49-a906-4223-eeef-2bacbd50f33a"
      },
      "execution_count": 23,
      "outputs": [
        {
          "output_type": "stream",
          "name": "stdout",
          "text": [
            "0.00647211\n",
            "CPU times: user 1.75 ms, sys: 0 ns, total: 1.75 ms\n",
            "Wall time: 6.6 ms\n"
          ]
        }
      ]
    },
    {
      "cell_type": "code",
      "source": [
        "randint=torch.randint(-100,100,(2,))\n",
        "print(randint)"
      ],
      "metadata": {
        "colab": {
          "base_uri": "https://localhost:8080/"
        },
        "id": "pXhDUhN5XEsi",
        "outputId": "77c6a8a3-bacc-4777-9a7a-14596d171bdf"
      },
      "execution_count": 24,
      "outputs": [
        {
          "output_type": "stream",
          "name": "stdout",
          "text": [
            "tensor([ 24, -71])\n"
          ]
        }
      ]
    },
    {
      "cell_type": "code",
      "source": [
        "tensor=torch.tensor([[1,2],[3,4],[5,6]])\n",
        "print(tensor)"
      ],
      "metadata": {
        "colab": {
          "base_uri": "https://localhost:8080/"
        },
        "id": "-Mxdz4P8XEvB",
        "outputId": "b0acd800-6915-42af-fab5-bd136c456840"
      },
      "execution_count": 27,
      "outputs": [
        {
          "output_type": "stream",
          "name": "stdout",
          "text": [
            "tensor([[1, 2],\n",
            "        [3, 4],\n",
            "        [5, 6]])\n"
          ]
        }
      ]
    },
    {
      "cell_type": "code",
      "source": [
        "input=torch.empty(2,2)\n",
        "print(input)"
      ],
      "metadata": {
        "colab": {
          "base_uri": "https://localhost:8080/"
        },
        "id": "IwS96HO6XExf",
        "outputId": "0aae1abf-e98b-439c-b04a-5973da02f586"
      },
      "execution_count": 28,
      "outputs": [
        {
          "output_type": "stream",
          "name": "stdout",
          "text": [
            "tensor([[2.1715e-18, 2.3081e-12],\n",
            "        [1.8590e+34, 7.7767e+31]])\n"
          ]
        }
      ]
    },
    {
      "cell_type": "code",
      "source": [
        "arange=torch.arange(5)\n",
        "print(arange)"
      ],
      "metadata": {
        "colab": {
          "base_uri": "https://localhost:8080/"
        },
        "id": "M74_bA91XE01",
        "outputId": "521a10d5-c5c0-4e7a-905e-d8dfd3458f97"
      },
      "execution_count": 30,
      "outputs": [
        {
          "output_type": "stream",
          "name": "stdout",
          "text": [
            "tensor([0, 1, 2, 3, 4])\n"
          ]
        }
      ]
    },
    {
      "cell_type": "code",
      "source": [
        "linspace=torch.linspace(3,10,steps=5)\n",
        "print(linspace)"
      ],
      "metadata": {
        "colab": {
          "base_uri": "https://localhost:8080/"
        },
        "id": "T9945c5EYjPH",
        "outputId": "984b3ea3-a4fc-4645-f5fe-191524bffe73"
      },
      "execution_count": 31,
      "outputs": [
        {
          "output_type": "stream",
          "name": "stdout",
          "text": [
            "tensor([ 3.0000,  4.7500,  6.5000,  8.2500, 10.0000])\n"
          ]
        }
      ]
    },
    {
      "cell_type": "code",
      "source": [
        "eye=torch.eye(5)\n",
        "print(eye)"
      ],
      "metadata": {
        "colab": {
          "base_uri": "https://localhost:8080/"
        },
        "id": "SmMl_IEsY2rn",
        "outputId": "ee8e3119-a7ed-46ff-8d27-322a314f0f10"
      },
      "execution_count": 32,
      "outputs": [
        {
          "output_type": "stream",
          "name": "stdout",
          "text": [
            "tensor([[1., 0., 0., 0., 0.],\n",
            "        [0., 1., 0., 0., 0.],\n",
            "        [0., 0., 1., 0., 0.],\n",
            "        [0., 0., 0., 1., 0.],\n",
            "        [0., 0., 0., 0., 1.]])\n"
          ]
        }
      ]
    },
    {
      "cell_type": "markdown",
      "source": [
        "CPU PERFORMS BETTER THAN GPU ON SIMPLE SHAPES\n"
      ],
      "metadata": {
        "id": "OIrTNBpUZxeQ"
      }
    },
    {
      "cell_type": "code",
      "source": [
        "torch_rand1 = torch.rand(100, 100, 100, 100).to(device)\n",
        "torch_rand2 = torch.rand(100, 100, 100, 100).to(device)\n",
        "np_rand1 = torch.rand(100, 100, 100, 100)\n",
        "np_rand2 = torch.rand(100, 100, 100, 100)\n",
        "\n",
        "start_time = time.time()\n",
        "\n",
        "rand = (torch_rand1 @ torch_rand2)\n",
        "\n",
        "end_time = time.time()\n",
        "\n",
        "elapsed_time = end_time - start_time\n",
        "print(f\"{elapsed_time:.8f}\")\n",
        "\n",
        "\n",
        "start_time = time.time()\n",
        "\n",
        "rand = np.multiply(np_rand1, np_rand2)\n",
        "end_time = time.time()\n",
        "elapsed_time = end_time - start_time\n",
        "print(f\"{elapsed_time:.8f}\")\n"
      ],
      "metadata": {
        "colab": {
          "base_uri": "https://localhost:8080/"
        },
        "id": "KFqMpsBxZTML",
        "outputId": "3f1e5010-ff65-405e-8f07-f2ad0f115ce1"
      },
      "execution_count": 33,
      "outputs": [
        {
          "output_type": "stream",
          "name": "stdout",
          "text": [
            "0.78064680\n",
            "0.49890327\n"
          ]
        }
      ]
    },
    {
      "cell_type": "code",
      "source": [
        "# Define a probability tensor\n",
        "probabilities = torch.tensor([0.1, 0.9])\n",
        "# 10% chance of getting a zero, 90% chance for getting a 1. each probability points to the index of the probability in the tensor\n",
        "# Draw 5 samples from the multinomial distribution\n",
        "samples = torch.multinomial(probabilities, num_samples=10, replacement=True)\n",
        "print(samples)"
      ],
      "metadata": {
        "colab": {
          "base_uri": "https://localhost:8080/"
        },
        "id": "vBYLkKG8ZTQK",
        "outputId": "bc80f8cf-669d-4c12-c6ab-291cfa290186"
      },
      "execution_count": 36,
      "outputs": [
        {
          "output_type": "stream",
          "name": "stdout",
          "text": [
            "tensor([1, 1, 0, 1, 1, 1, 1, 1, 1, 1])\n"
          ]
        }
      ]
    },
    {
      "cell_type": "code",
      "source": [
        "#concatenate 2 sensors into one (used in text generation)\n",
        "tensor = torch.tensor([1, 2, 3, 4])\n",
        "out = torch.cat((tensor, torch.tensor([5])), dim=0)\n",
        "out"
      ],
      "metadata": {
        "colab": {
          "base_uri": "https://localhost:8080/"
        },
        "id": "3UJUysoUZTUX",
        "outputId": "4f6cd23c-5e83-40ec-d53b-c5f62fd91215"
      },
      "execution_count": 38,
      "outputs": [
        {
          "output_type": "execute_result",
          "data": {
            "text/plain": [
              "tensor([1, 2, 3, 4, 5])"
            ]
          },
          "metadata": {},
          "execution_count": 38
        }
      ]
    },
    {
      "cell_type": "code",
      "source": [
        "#lower triangle\n",
        "out = torch.tril(torch.ones(5, 5))\n",
        "out"
      ],
      "metadata": {
        "colab": {
          "base_uri": "https://localhost:8080/"
        },
        "id": "FpMZgTIlZTZD",
        "outputId": "366a56d2-e336-4c83-b03a-ce5d19b7f537"
      },
      "execution_count": 39,
      "outputs": [
        {
          "output_type": "execute_result",
          "data": {
            "text/plain": [
              "tensor([[1., 0., 0., 0., 0.],\n",
              "        [1., 1., 0., 0., 0.],\n",
              "        [1., 1., 1., 0., 0.],\n",
              "        [1., 1., 1., 1., 0.],\n",
              "        [1., 1., 1., 1., 1.]])"
            ]
          },
          "metadata": {},
          "execution_count": 39
        }
      ]
    },
    {
      "cell_type": "code",
      "source": [
        "#upper triangle\n",
        "out = torch.triu(torch.ones(5, 5))\n",
        "out"
      ],
      "metadata": {
        "colab": {
          "base_uri": "https://localhost:8080/"
        },
        "id": "-Ppems4Aajqn",
        "outputId": "22f09d11-f0ce-4821-8ad1-c8e237c68203"
      },
      "execution_count": 40,
      "outputs": [
        {
          "output_type": "execute_result",
          "data": {
            "text/plain": [
              "tensor([[1., 1., 1., 1., 1.],\n",
              "        [0., 1., 1., 1., 1.],\n",
              "        [0., 0., 1., 1., 1.],\n",
              "        [0., 0., 0., 1., 1.],\n",
              "        [0., 0., 0., 0., 1.]])"
            ]
          },
          "metadata": {},
          "execution_count": 40
        }
      ]
    },
    {
      "cell_type": "markdown",
      "source": [
        "Moving from negative infinity to 0, then 0 to 1\n"
      ],
      "metadata": {
        "id": "pWIbOx10bih-"
      }
    },
    {
      "cell_type": "code",
      "source": [
        "out = torch.zeros(5, 5).masked_fill(torch.tril(torch.ones(5, 5)) == 0, float('-inf'))\n",
        "out"
      ],
      "metadata": {
        "colab": {
          "base_uri": "https://localhost:8080/"
        },
        "id": "22KxgEOlajut",
        "outputId": "816a6c96-3ac6-4f09-9ed9-fa158431e9be"
      },
      "execution_count": 41,
      "outputs": [
        {
          "output_type": "execute_result",
          "data": {
            "text/plain": [
              "tensor([[0., -inf, -inf, -inf, -inf],\n",
              "        [0., 0., -inf, -inf, -inf],\n",
              "        [0., 0., 0., -inf, -inf],\n",
              "        [0., 0., 0., 0., -inf],\n",
              "        [0., 0., 0., 0., 0.]])"
            ]
          },
          "metadata": {},
          "execution_count": 41
        }
      ]
    },
    {
      "cell_type": "code",
      "source": [
        "torch.exp(out)\n"
      ],
      "metadata": {
        "colab": {
          "base_uri": "https://localhost:8080/"
        },
        "id": "FJlnP4guajx4",
        "outputId": "02ccfd17-6a1e-449e-f715-4bffc908a231"
      },
      "execution_count": 42,
      "outputs": [
        {
          "output_type": "execute_result",
          "data": {
            "text/plain": [
              "tensor([[1., 0., 0., 0., 0.],\n",
              "        [1., 1., 0., 0., 0.],\n",
              "        [1., 1., 1., 0., 0.],\n",
              "        [1., 1., 1., 1., 0.],\n",
              "        [1., 1., 1., 1., 1.]])"
            ]
          },
          "metadata": {},
          "execution_count": 42
        }
      ]
    },
    {
      "cell_type": "code",
      "source": [
        "input = torch.zeros(2, 3, 4)\n",
        "out1 = input.transpose(0, 1)\n",
        "out2 = input.transpose(-2,-1)\n",
        "print(out1.shape)\n",
        "print(out2.shape)\n",
        "# torch.permute works the same but you provide the new order of dimensions instead of the dimensions you'd like to swap.\n"
      ],
      "metadata": {
        "colab": {
          "base_uri": "https://localhost:8080/"
        },
        "id": "RZ1YAAomaj1V",
        "outputId": "1e53217e-dde8-4e3b-c1ce-fd128a08aac8"
      },
      "execution_count": 43,
      "outputs": [
        {
          "output_type": "stream",
          "name": "stdout",
          "text": [
            "torch.Size([3, 2, 4])\n",
            "torch.Size([2, 4, 3])\n"
          ]
        }
      ]
    },
    {
      "cell_type": "code",
      "source": [
        "tensor1 = torch.tensor([1, 2, 3])\n",
        "tensor2 = torch.tensor([4, 5, 6])\n",
        "tensor3 = torch.tensor([7, 8, 9])\n",
        "\n",
        "# Stack the tensors increase the dimension\n",
        "stacked_tensor = torch.stack([tensor1, tensor2, tensor3])\n",
        "stacked_tensor\n"
      ],
      "metadata": {
        "colab": {
          "base_uri": "https://localhost:8080/"
        },
        "id": "hpenb7OucVa5",
        "outputId": "47f2a544-b01f-426b-adf9-cd56de09b24f"
      },
      "execution_count": 46,
      "outputs": [
        {
          "output_type": "execute_result",
          "data": {
            "text/plain": [
              "tensor([[1, 2, 3],\n",
              "        [4, 5, 6],\n",
              "        [7, 8, 9]])"
            ]
          },
          "metadata": {},
          "execution_count": 46
        }
      ]
    },
    {
      "cell_type": "code",
      "source": [
        "import torch.nn as nn\n",
        "sample = torch.tensor([10.,10.,10.])\n",
        "linear = nn.Linear(3, 3, bias=False)\n",
        "print(linear(sample))\n",
        "#learns weight and bias to become better and better the nn module"
      ],
      "metadata": {
        "colab": {
          "base_uri": "https://localhost:8080/"
        },
        "id": "lHY_V88tcVff",
        "outputId": "cbc595b7-519e-4971-f025-d098aa8ba4fd"
      },
      "execution_count": 48,
      "outputs": [
        {
          "output_type": "stream",
          "name": "stdout",
          "text": [
            "tensor([ 3.7114, -4.7357, -6.4906], grad_fn=<SqueezeBackward4>)\n"
          ]
        }
      ]
    },
    {
      "cell_type": "markdown",
      "source": [
        "Softmax converts vector to probabilities\n"
      ],
      "metadata": {
        "id": "QzWZZR2Ythd2"
      }
    },
    {
      "cell_type": "code",
      "source": [
        "import torch.nn.functional as F\n",
        "\n",
        "# Create a tensor\n",
        "tensor1 = torch.tensor([1.0, 2.0, 3.0])\n",
        "\n",
        "# Apply softmax using torch.nn.functional.softmax()\n",
        "softmax_output = F.softmax(tensor1, dim=0)\n",
        "\n",
        "print(softmax_output)"
      ],
      "metadata": {
        "colab": {
          "base_uri": "https://localhost:8080/"
        },
        "id": "OxmWZb9-cVjm",
        "outputId": "f5f34e9f-d515-43e0-ee3c-93f80edcf926"
      },
      "execution_count": 47,
      "outputs": [
        {
          "output_type": "stream",
          "name": "stdout",
          "text": [
            "tensor([0.0900, 0.2447, 0.6652])\n"
          ]
        }
      ]
    },
    {
      "cell_type": "markdown",
      "source": [
        "N dot embedding is a technique for creating dense vector representations of graphs by multiplying node features and adjacency matrices, capturing relationships between nodes in a low-dimensional space."
      ],
      "metadata": {
        "id": "vuxB01nPvPuE"
      }
    },
    {
      "cell_type": "code",
      "source": [
        "# Initialize an embedding layer\n",
        "vocab_size = 80\n",
        "embedding_dim = 6\n",
        "embedding = nn.Embedding(vocab_size, embedding_dim)\n",
        "\n",
        "# Create some input indices\n",
        "input_indices = torch.LongTensor([1, 5, 3, 2])\n",
        "\n",
        "# Apply the embedding layer\n",
        "embedded_output = embedding(input_indices)\n",
        "\n",
        "# The output will be a tensor of shape (4, 100), where 4 is the number of inputs\n",
        "# and 100 is the dimensionality of the embedding vectors\n",
        "print(embedded_output.shape)\n",
        "print(embedded_output)\n"
      ],
      "metadata": {
        "colab": {
          "base_uri": "https://localhost:8080/"
        },
        "id": "y8kPJppXcVnf",
        "outputId": "510b45a5-c01e-4bfc-aa0f-c24e6a71ec63"
      },
      "execution_count": 3,
      "outputs": [
        {
          "output_type": "stream",
          "name": "stdout",
          "text": [
            "torch.Size([4, 6])\n",
            "tensor([[-0.1584,  0.1968, -1.0232,  0.3752,  0.0413,  0.8819],\n",
            "        [-0.3506,  1.5185,  1.7786, -1.1053,  1.5372, -0.9425],\n",
            "        [ 0.3410,  1.8148,  0.3019, -2.0920,  1.1490,  0.0686],\n",
            "        [ 0.2256,  0.3709,  0.8330,  1.5623, -0.7798, -1.1359]],\n",
            "       grad_fn=<EmbeddingBackward0>)\n"
          ]
        }
      ]
    },
    {
      "cell_type": "code",
      "source": [
        "a = torch.tensor([[1,2],[3,4],[5,6]])\n",
        "b = torch.tensor([[7,8,9],[10,11,12]])\n",
        "print(torch.matmul(a, b))"
      ],
      "metadata": {
        "colab": {
          "base_uri": "https://localhost:8080/"
        },
        "id": "6RRvjYM6tbTC",
        "outputId": "3f51d036-1a20-416f-f8dd-daf9b7252ae3"
      },
      "execution_count": 6,
      "outputs": [
        {
          "output_type": "stream",
          "name": "stdout",
          "text": [
            "tensor([[ 27,  30,  33],\n",
            "        [ 61,  68,  75],\n",
            "        [ 95, 106, 117]])\n"
          ]
        }
      ]
    },
    {
      "cell_type": "code",
      "source": [
        "print(a @ b)"
      ],
      "metadata": {
        "colab": {
          "base_uri": "https://localhost:8080/"
        },
        "id": "jV9ljMmVuzQ4",
        "outputId": "d6cee00a-5cc4-49dc-dc30-99a0d81b33e0"
      },
      "execution_count": 5,
      "outputs": [
        {
          "output_type": "stream",
          "name": "stdout",
          "text": [
            "tensor([[ 27,  30,  33],\n",
            "        [ 61,  68,  75],\n",
            "        [ 95, 106, 117]])\n"
          ]
        }
      ]
    },
    {
      "cell_type": "code",
      "source": [
        "int_64 = torch.randint(1, (3, 2)).float()\n",
        "#type int64\n",
        "float_32 = torch.rand(2,3)\n",
        "#type float32\n",
        "print(int_64.dtype, float_32.dtype)\n",
        "result = torch.matmul(int_64, float_32)\n",
        "print(result)\n"
      ],
      "metadata": {
        "colab": {
          "base_uri": "https://localhost:8080/"
        },
        "id": "ysw7At_cw_pb",
        "outputId": "f64d4f6e-ff9a-44b9-96ca-a0158b84bebc"
      },
      "execution_count": 11,
      "outputs": [
        {
          "output_type": "stream",
          "name": "stdout",
          "text": [
            "torch.float32 torch.float32\n",
            "tensor([[0., 0., 0.],\n",
            "        [0., 0., 0.],\n",
            "        [0., 0., 0.]])\n"
          ]
        }
      ]
    },
    {
      "cell_type": "code",
      "source": [
        "a = torch.rand(2, 3, 5)\n",
        "print(a.shape)\n",
        "x, y, z = a.shape\n",
        "a = a.view(x,y,z)\n",
        "print(x, y, z)\n",
        "print(a.shape)\n"
      ],
      "metadata": {
        "colab": {
          "base_uri": "https://localhost:8080/"
        },
        "id": "MmChzKpdw_w1",
        "outputId": "3564d58d-92cb-4834-906d-45379eb83ca4"
      },
      "execution_count": 12,
      "outputs": [
        {
          "output_type": "stream",
          "name": "stdout",
          "text": [
            "torch.Size([2, 3, 5])\n",
            "2 3 5\n",
            "torch.Size([2, 3, 5])\n"
          ]
        }
      ]
    },
    {
      "cell_type": "code",
      "source": [
        "input = torch.rand((4, 8, 10))\n",
        "B, T, C = input.shape\n",
        "output = input.view(B*T, C)\n",
        "print(output)\n"
      ],
      "metadata": {
        "colab": {
          "base_uri": "https://localhost:8080/"
        },
        "id": "pEGKTptsxLi8",
        "outputId": "1f2687ed-2d8a-4d81-f32f-40db89008b62"
      },
      "execution_count": 9,
      "outputs": [
        {
          "output_type": "stream",
          "name": "stdout",
          "text": [
            "tensor([[3.2524e-01, 9.8585e-01, 1.5053e-01, 8.9909e-01, 8.4300e-01, 3.0315e-01,\n",
            "         5.5907e-01, 6.7589e-01, 5.5715e-01, 9.7738e-01],\n",
            "        [4.1786e-01, 2.1381e-01, 7.2197e-01, 6.1850e-01, 4.5625e-01, 2.2868e-01,\n",
            "         6.2862e-01, 2.8456e-01, 1.3787e-01, 9.8428e-01],\n",
            "        [2.4788e-02, 7.9113e-01, 2.1766e-01, 9.1055e-01, 5.2625e-01, 7.8529e-01,\n",
            "         5.0509e-01, 3.0529e-01, 4.4163e-01, 5.3367e-01],\n",
            "        [6.9818e-02, 5.5024e-01, 3.7500e-01, 2.6505e-01, 4.1752e-01, 1.1815e-01,\n",
            "         6.4608e-01, 3.6248e-01, 3.2193e-01, 5.6960e-01],\n",
            "        [8.4866e-01, 5.5627e-01, 4.3618e-01, 6.4134e-01, 8.6616e-01, 7.4590e-01,\n",
            "         2.7461e-01, 2.5123e-01, 3.8373e-01, 4.6747e-01],\n",
            "        [5.2740e-01, 7.2638e-01, 8.5942e-02, 7.6404e-01, 3.1775e-02, 4.2702e-01,\n",
            "         5.7284e-02, 5.0026e-01, 9.2847e-01, 7.6994e-01],\n",
            "        [9.2690e-01, 1.7754e-01, 2.1889e-01, 8.6953e-02, 7.9939e-01, 6.1113e-01,\n",
            "         2.1477e-01, 5.4953e-02, 4.7217e-01, 8.1402e-01],\n",
            "        [9.4501e-01, 8.6053e-01, 4.0294e-02, 6.5656e-01, 6.6518e-01, 6.3841e-01,\n",
            "         3.8337e-01, 1.1707e-01, 3.6334e-01, 9.9747e-01],\n",
            "        [3.7605e-01, 6.9607e-01, 5.5126e-01, 1.0561e-01, 5.2838e-01, 4.4526e-01,\n",
            "         6.7753e-01, 4.6087e-01, 5.6736e-01, 8.9895e-02],\n",
            "        [2.9793e-01, 5.0157e-01, 1.4493e-01, 1.6226e-01, 2.2177e-02, 3.6075e-01,\n",
            "         3.8063e-01, 1.0327e-01, 5.6384e-01, 1.5676e-01],\n",
            "        [6.8704e-01, 5.3566e-01, 7.2405e-01, 9.5189e-01, 8.3009e-01, 6.2551e-01,\n",
            "         1.8496e-02, 7.7523e-01, 5.7901e-01, 7.8022e-01],\n",
            "        [1.5854e-01, 5.0329e-01, 2.9995e-01, 2.3130e-01, 3.2201e-01, 4.0984e-01,\n",
            "         3.7368e-01, 1.2359e-01, 8.4748e-01, 6.1723e-01],\n",
            "        [9.6589e-01, 8.0851e-01, 3.6670e-01, 4.4856e-01, 2.6968e-01, 8.2430e-01,\n",
            "         1.3869e-02, 5.4125e-01, 5.7524e-02, 9.0917e-02],\n",
            "        [7.1446e-01, 9.8490e-01, 8.7157e-01, 2.7353e-01, 6.5604e-02, 5.6642e-01,\n",
            "         2.7168e-01, 6.8012e-01, 5.9027e-01, 2.2411e-02],\n",
            "        [9.9711e-01, 3.4113e-01, 9.5553e-01, 5.4172e-01, 8.0283e-01, 6.9401e-01,\n",
            "         1.9152e-01, 7.2404e-01, 5.0926e-01, 5.0733e-01],\n",
            "        [7.2933e-01, 5.5932e-01, 3.2176e-01, 9.6894e-01, 1.6088e-01, 5.6437e-01,\n",
            "         9.0575e-01, 3.1344e-01, 1.9041e-01, 3.4982e-01],\n",
            "        [9.5588e-01, 8.9102e-01, 7.3736e-01, 2.0289e-01, 1.0380e-01, 5.0920e-01,\n",
            "         7.1401e-01, 6.8127e-01, 3.1855e-01, 2.4348e-04],\n",
            "        [2.9810e-01, 7.7603e-01, 2.7262e-01, 2.5420e-01, 9.4021e-01, 9.3849e-01,\n",
            "         8.2183e-01, 6.9550e-01, 4.4969e-01, 2.2681e-01],\n",
            "        [4.8644e-02, 8.1974e-01, 6.4141e-01, 1.8893e-01, 2.1317e-01, 7.5286e-01,\n",
            "         7.8020e-01, 2.1344e-01, 9.2670e-01, 9.4155e-01],\n",
            "        [1.5938e-01, 2.9715e-01, 6.0534e-01, 1.5736e-01, 5.9631e-01, 2.9671e-01,\n",
            "         4.4480e-02, 5.4693e-01, 6.7231e-01, 6.3785e-01],\n",
            "        [5.7230e-02, 9.2142e-01, 1.8957e-01, 7.4330e-01, 9.0308e-01, 6.0894e-01,\n",
            "         3.9468e-01, 5.3214e-02, 6.8112e-01, 3.5635e-02],\n",
            "        [9.4772e-01, 1.3130e-01, 2.9420e-01, 2.6333e-01, 1.8170e-01, 1.3657e-01,\n",
            "         1.9125e-01, 8.6785e-01, 6.2105e-01, 6.1975e-01],\n",
            "        [1.6483e-01, 3.8874e-01, 4.5295e-01, 2.4688e-01, 9.0594e-01, 9.5587e-01,\n",
            "         1.6271e-01, 7.1946e-01, 9.8892e-02, 1.7410e-01],\n",
            "        [5.6832e-01, 8.1873e-01, 8.2588e-01, 8.0819e-01, 3.2889e-01, 7.3305e-01,\n",
            "         6.6581e-02, 9.4499e-02, 3.0981e-02, 9.2874e-01],\n",
            "        [3.2011e-01, 7.2770e-01, 8.3860e-01, 9.9393e-01, 5.5461e-01, 7.1465e-01,\n",
            "         5.8749e-01, 6.8813e-01, 9.0297e-01, 4.1180e-02],\n",
            "        [2.6261e-01, 3.0925e-01, 3.0670e-01, 7.5120e-01, 8.1709e-01, 9.9138e-01,\n",
            "         9.8210e-01, 6.4495e-01, 3.7872e-01, 9.8453e-01],\n",
            "        [7.8361e-01, 7.9700e-01, 3.1210e-01, 3.7956e-01, 3.4945e-01, 3.7276e-01,\n",
            "         9.7790e-01, 4.2319e-01, 4.8375e-01, 5.5964e-01],\n",
            "        [3.6654e-01, 9.4534e-01, 7.3412e-01, 5.6194e-01, 3.4637e-01, 5.4856e-01,\n",
            "         1.8937e-01, 2.2649e-01, 3.2649e-01, 7.6352e-01],\n",
            "        [2.8164e-01, 8.3448e-01, 5.6284e-01, 2.5826e-01, 8.9635e-02, 7.5641e-01,\n",
            "         4.5583e-01, 6.6279e-01, 6.2945e-01, 9.7497e-01],\n",
            "        [1.3483e-01, 1.5926e-01, 9.1294e-01, 7.6081e-01, 7.6555e-01, 3.8496e-01,\n",
            "         5.8523e-01, 1.6776e-01, 2.4279e-01, 2.7930e-01],\n",
            "        [1.4805e-01, 7.9184e-01, 6.7511e-01, 7.2278e-01, 8.6518e-01, 1.1468e-01,\n",
            "         4.5128e-01, 3.0020e-01, 3.4564e-01, 9.9174e-01],\n",
            "        [7.8911e-01, 9.8797e-01, 7.6721e-01, 3.4259e-01, 9.3420e-01, 3.5940e-01,\n",
            "         4.7100e-02, 6.0364e-02, 3.6396e-01, 2.2414e-01]])\n"
          ]
        }
      ]
    },
    {
      "cell_type": "code",
      "source": [
        "import matplotlib.pyplot as plt\n",
        "\n",
        "# Create a heatmap to visualize the transformation (channels vs unfolded elements)\n",
        "plt.imshow(output.detach().cpu(), aspect='auto')\n",
        "plt.colorbar(label='Value')\n",
        "plt.xlabel('Unfolded Elements (B*T)')\n",
        "plt.ylabel('Channels (C)')\n",
        "plt.title('Input Tensor Reshaped for Visualization')\n",
        "plt.show()"
      ],
      "metadata": {
        "colab": {
          "base_uri": "https://localhost:8080/",
          "height": 472
        },
        "id": "-pc67Zm5ybwc",
        "outputId": "62c6fae5-10d9-4b2a-f21d-3910ee549dee"
      },
      "execution_count": 15,
      "outputs": [
        {
          "output_type": "display_data",
          "data": {
            "text/plain": [
              "<Figure size 640x480 with 2 Axes>"
            ],
            "image/png": "[encoded data removed]"
          },
          "metadata": {}
        }
      ]
    },
    {
      "cell_type": "code",
      "source": [
        "x = torch.tensor([10], dtype=torch.float32)\n",
        "y = F.tanh(x)\n",
        "print(y)"
      ],
      "metadata": {
        "colab": {
          "base_uri": "https://localhost:8080/"
        },
        "id": "cLD0GkNExLmD",
        "outputId": "96694eeb-a538-4496-ba08-c15eb1d5c108"
      },
      "execution_count": 13,
      "outputs": [
        {
          "output_type": "stream",
          "name": "stdout",
          "text": [
            "tensor([1.])\n"
          ]
        }
      ]
    },
    {
      "cell_type": "markdown",
      "source": [
        "\n",
        "**Back to our working code**\n",
        "\n",
        "Define the block,batch size etc\n",
        "\n"
      ],
      "metadata": {
        "id": "DVAhNbQPX0rt"
      }
    },
    {
      "cell_type": "code",
      "source": [
        "block_size = 8\n",
        "batch_size = 4\n",
        "max_iters = 1000\n",
        "# eval_interval = 2500\n",
        "learning_rate = 3e-4\n",
        "eval_iters = 250"
      ],
      "metadata": {
        "id": "qabCX8SQWrYN"
      },
      "execution_count": 54,
      "outputs": []
    },
    {
      "cell_type": "code",
      "source": [
        "#encode the whole txt file data we have\n",
        "data = torch.tensor(encode(text), dtype=torch.long)"
      ],
      "metadata": {
        "id": "otNJJb-oRNbL"
      },
      "execution_count": 55,
      "outputs": []
    },
    {
      "cell_type": "code",
      "source": [
        "print(data[:50])"
      ],
      "metadata": {
        "colab": {
          "base_uri": "https://localhost:8080/"
        },
        "id": "E9OsXFsCRNeB",
        "outputId": "2ab5586a-0aef-4aa9-be6b-ab259541fb5e"
      },
      "execution_count": 56,
      "outputs": [
        {
          "output_type": "stream",
          "name": "stdout",
          "text": [
            "tensor([80,  1,  1, 28, 39, 42, 39, 44, 32, 49,  1, 25, 38, 28,  1, 44, 32, 29,\n",
            "         1, 47, 33, 50, 25, 42, 28,  1, 33, 38,  1, 39, 50,  0,  0,  1,  1, 26,\n",
            "        49,  0,  0,  1,  1, 36, 11,  1, 30, 42, 25, 38, 35,  1])\n"
          ]
        }
      ]
    },
    {
      "cell_type": "markdown",
      "source": [
        "Split the data to make the generations unique.\n",
        "Pick a random block size(encoded characters) to make predictions."
      ],
      "metadata": {
        "id": "1pL0mIQnS9Gf"
      }
    },
    {
      "cell_type": "code",
      "source": [
        "n = int(0.8*len(data))\n",
        "train_data = data[:n]\n",
        "val_data = data[n:]"
      ],
      "metadata": {
        "id": "DUB0vZlNRNhX"
      },
      "execution_count": 57,
      "outputs": []
    },
    {
      "cell_type": "code",
      "source": [
        "block_size=8\n",
        "x=train_data[:block_size]\n",
        "y=val_data[1:block_size+1]\n",
        "\n",
        "for t in range (block_size):\n",
        "  context = x[:t+1]\n",
        "  target = y[t]\n",
        "  print(f\"when input is {context} the target is {target}\")"
      ],
      "metadata": {
        "colab": {
          "base_uri": "https://localhost:8080/"
        },
        "id": "ULMMqUkIRNkw",
        "outputId": "3c089258-008f-4f82-e225-a0a07cf898b6"
      },
      "execution_count": 19,
      "outputs": [
        {
          "output_type": "stream",
          "name": "stdout",
          "text": [
            "when input is tensor([80]) the target is 54\n",
            "when input is tensor([80,  1]) the target is 73\n",
            "when input is tensor([80,  1,  1]) the target is 73\n",
            "when input is tensor([80,  1,  1, 28]) the target is 58\n",
            "when input is tensor([80,  1,  1, 28, 39]) the target is 71\n",
            "when input is tensor([80,  1,  1, 28, 39, 42]) the target is 9\n",
            "when input is tensor([80,  1,  1, 28, 39, 42, 39]) the target is 1\n",
            "when input is tensor([80,  1,  1, 28, 39, 42, 39, 44]) the target is 76\n"
          ]
        }
      ]
    },
    {
      "cell_type": "code",
      "source": [
        "def get_batch(split):\n",
        "    data = train_data if split == 'train' else val_data\n",
        "    ix = torch.randint(len(data) - block_size, (batch_size,))\n",
        "    x = torch.stack([data[i:i+block_size] for i in ix])\n",
        "    y = torch.stack([data[i+1:i+block_size+1] for i in ix])\n",
        "    x, y = x.to(device), y.to(device)\n",
        "    return x, y\n",
        "\n",
        "x, y = get_batch('train')\n",
        "print('inputs:')\n",
        "print(x)\n",
        "print('targets:')\n",
        "print(y)\n"
      ],
      "metadata": {
        "colab": {
          "base_uri": "https://localhost:8080/"
        },
        "id": "oRLxymfbUwa1",
        "outputId": "b9801c50-8176-4c9f-bf94-9122cdbc9e66"
      },
      "execution_count": 58,
      "outputs": [
        {
          "output_type": "stream",
          "name": "stdout",
          "text": [
            "inputs:\n",
            "tensor([[58, 71,  1, 76, 54, 71, 67, 62],\n",
            "        [62, 71,  1, 54, 59, 73, 58, 71],\n",
            "        [68, 59,  1, 73, 61, 62, 72,  1],\n",
            "        [60,  1, 61, 62, 72,  1, 61, 58]], device='cuda:0')\n",
            "targets:\n",
            "tensor([[71,  1, 76, 54, 71, 67, 62, 67],\n",
            "        [71,  1, 54, 59, 73, 58, 71,  1],\n",
            "        [59,  1, 73, 61, 62, 72,  1, 56],\n",
            "        [ 1, 61, 62, 72,  1, 61, 58, 54]], device='cuda:0')\n"
          ]
        }
      ]
    },
    {
      "cell_type": "code",
      "source": [
        "print(x.shape)\n"
      ],
      "metadata": {
        "colab": {
          "base_uri": "https://localhost:8080/"
        },
        "id": "SBsQsm3iUwia",
        "outputId": "8eb622cb-b554-40c6-f3d3-bd4b6cdec384"
      },
      "execution_count": 59,
      "outputs": [
        {
          "output_type": "stream",
          "name": "stdout",
          "text": [
            "torch.Size([4, 8])\n"
          ]
        }
      ]
    },
    {
      "cell_type": "code",
      "source": [
        "#we dont need any computation or gradiemt optimization here because we are only reorting loss\n",
        "@torch.no_grad()\n",
        "def estimate_loss():\n",
        "    out = {}\n",
        "    model.eval()\n",
        "    for split in ['train', 'val']:\n",
        "        losses = torch.zeros(eval_iters)\n",
        "        for k in range(eval_iters):\n",
        "            X, Y = get_batch(split)\n",
        "            logits, loss = model(X, Y)\n",
        "            losses[k] = loss.item()\n",
        "        out[split] = losses.mean()\n",
        "    model.train()\n",
        "    return out\n"
      ],
      "metadata": {
        "id": "U0NneecL5XCy"
      },
      "execution_count": 65,
      "outputs": []
    },
    {
      "cell_type": "markdown",
      "source": [
        "The class takes the nn dot module.\n",
        "\n",
        "self.token_embedding_table creates a lookup table called token_embedding_table. It's a core component of the model that maps each word in your vocabulary to a numerical vector (embedding). This vector captures some meaning or representation of the word.\n",
        "\n",
        "\n"
      ],
      "metadata": {
        "id": "gRUh6YvP6le9"
      }
    },
    {
      "cell_type": "code",
      "source": [
        "class BigramLanguageModel(nn.Module):\n",
        "    def __init__(self, vocab_size):\n",
        "        super().__init__()\n",
        "        self.token_embedding_table = nn.Embedding(vocab_size, vocab_size)\n",
        "\n",
        "    def forward(self, index, targets=None):\n",
        "        logits = self.token_embedding_table(index)\n",
        "\n",
        "\n",
        "        if targets is None:\n",
        "            loss = None\n",
        "        else:\n",
        "            B, T, C = logits.shape\n",
        "            #looks up the embeddings for each word index in index using the token_embedding_table.\n",
        "            #logits are probability distrinution of what we want to predict\n",
        "            #view help us reshape how logits look like\n",
        "            logits = logits.view(B*T, C)\n",
        "            targets = targets.view(B*T)\n",
        "            loss = F.cross_entropy(logits, targets)\n",
        "\n",
        "        return logits, loss\n",
        "\n",
        "    def generate(self, index, max_new_tokens):\n",
        "        # index is (B, T) array of indices in the current context\n",
        "        for _ in range(max_new_tokens):\n",
        "            # get the predictions\n",
        "            logits, loss = self.forward(index)\n",
        "            # focus only on the last time step\n",
        "            logits = logits[:, -1, :] # becomes (B, C)\n",
        "            # apply softmax to get probabilities\n",
        "            probs = F.softmax(logits, dim=-1) # (B, C)\n",
        "            # sample from the distribution\n",
        "            index_next = torch.multinomial(probs, num_samples=1) # (B, 1)\n",
        "            # append sampled index to the running sequence\n",
        "            index = torch.cat((index, index_next), dim=1) # (B, T+1)\n",
        "        return index\n",
        "\n",
        "model = BigramLanguageModel(vocab_size)\n",
        "m = model.to(device)\n"
      ],
      "metadata": {
        "id": "is4bD2UX50WR"
      },
      "execution_count": 61,
      "outputs": []
    },
    {
      "cell_type": "code",
      "source": [
        "context = torch.zeros((1,1), dtype=torch.long, device=device)\n",
        "generated_chars = decode(m.generate(context, max_new_tokens=500)[0].tolist())\n",
        "print(generated_chars)"
      ],
      "metadata": {
        "colab": {
          "base_uri": "https://localhost:8080/"
        },
        "id": "13fOr5uE6GaU",
        "outputId": "58478d3f-7d5d-4c30-fda3-f1c18d112cd9"
      },
      "execution_count": 62,
      "outputs": [
        {
          "output_type": "stream",
          "name": "stdout",
          "text": [
            "\n",
            "G!vcyMmxMZE_T 5]pYCxsRl Zv\"!4:]k2KQlh5MHNZab:kI\"jKc_ 'BMPwvv_ZjgkM7gynbp9X1w0kgwN!Sm_OK]Mm tNfjkI.?f;(\"\"f,2a-_Qma01\"3vG?(&dzf\"HGcpH7c5reM]*sH6Wjgj&Fnxnf20dGTi_ZExC_k]u]uJqC1A_hFpsHEv1Zx*,gB]\n",
            "vMlKEBS]*&'BLiDZahnLdORh3h64﻿[dwb1RTN2uOMPZ?&5JZMFnF9EhN,exCV]TBiA_(.2)6TiB;v \"yH'jlGW!L'p;7r*_WbiA?&X1VPF8qkV1VluX45Pwe5?ITFl:yISf6Td)g5,lOK﻿Pe]KmYI;i?di\n",
            "fywRJ'JDGksbi)aP Uq,U(trJ)QFXxAm!8ngRqQmMLH6r6yISEBsra(y25 c\"P!pPsDf6LntJHF-f8K2(s'*QHIOqyMexGH;6L))6T6K Zy!vGMSExALl﻿tgLN05cN!pz-rMz7CpaagAL*cpy9y'2ktcpn\n"
          ]
        }
      ]
    },
    {
      "cell_type": "code",
      "source": [
        "# create a PyTorch optimizer\n",
        "optimizer = torch.optim.AdamW(model.parameters(), lr=learning_rate)\n",
        "\n",
        "for iter in range(max_iters):\n",
        "    if iter % eval_iters == 0:\n",
        "        losses = estimate_loss()\n",
        "        print(f\"step: {iter}, train loss: {losses['train']:.3f}, val loss: {losses['val']:.3f}\")\n",
        "\n",
        "    # sample a batch of data\n",
        "    xb, yb = get_batch('train')\n",
        "\n",
        "    # evaluate the loss\n",
        "    logits, loss = model.forward(xb, yb)\n",
        "    optimizer.zero_grad(set_to_none=True)\n",
        "    loss.backward()\n",
        "    optimizer.step()\n",
        "print(loss.item())\n"
      ],
      "metadata": {
        "colab": {
          "base_uri": "https://localhost:8080/"
        },
        "id": "nyoJgZd66QOh",
        "outputId": "aeff910d-8a23-4610-e91f-58103a8b4ec4"
      },
      "execution_count": 63,
      "outputs": [
        {
          "output_type": "stream",
          "name": "stdout",
          "text": [
            "step: 0, train loss: 4.828, val loss: 4.830\n",
            "step: 250, train loss: 4.780, val loss: 4.788\n",
            "step: 500, train loss: 4.720, val loss: 4.709\n",
            "step: 750, train loss: 4.648, val loss: 4.657\n",
            "4.7332587242126465\n"
          ]
        }
      ]
    },
    {
      "cell_type": "code",
      "source": [
        "context = torch.zeros((1,1), dtype=torch.long, device=device)\n",
        "generated_chars = decode(m.generate(context, max_new_tokens=500)[0].tolist())\n",
        "print(generated_chars)"
      ],
      "metadata": {
        "colab": {
          "base_uri": "https://localhost:8080/"
        },
        "id": "zMsnOgBW6U9r",
        "outputId": "bc3d59f4-cbd1-4dff-e1f5-c15fd5726458"
      },
      "execution_count": 64,
      "outputs": [
        {
          "output_type": "stream",
          "name": "stdout",
          "text": [
            "\n",
            "ksRJGMm'O'gh::205,tt0EnlImz,)C7pYDp0Hgm PreOu&SfP1[4IpCVnp\n",
            "?ID!Sb_uDZ(q,8GpaYU6g-VmaYq8X6Wq9*T3shosHF9C]pWuXwkIS[6q-\"yuG7;6-\"?ODR*z,OKA?wN'a0Y:R)Uqz Ke&iOPEhN_06igahZ\n",
            "(G.bDwvnpB1NbLqTkiA:d0qWu?ha]m!c?lD]cpsr9tgqSqks;XBSbaw6qCB*pYy cpYZ5?,4n[QtH;TWb)A8vmGb. P;mi4 FF!)yOTT-Ivfo-Ma&XhK];wkNQF*QHqsJGQ&)D3fy\".2wJ1ADZ7EzynP65f6b6WU2wX_ZYF9_ubmF;6T6Pg8nX4n[uCG0QmMITx8\"y[v1AbyMAF&Six[7\n",
            "'﻿JDN5NO)qNZ05JqSYIVz6&&)vLD﻿_kBvLK[nb1MLE2maP.6KmxM\"y6IT-TkL]9fbuhx1m,6.3E2e-!cH[﻿2iR06)w)zlG?5Md!iLD,\n",
            "NQCVU2zHr;XH6FF\n"
          ]
        }
      ]
    }
  ]
}